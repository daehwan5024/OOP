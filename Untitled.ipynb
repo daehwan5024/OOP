{
 "cells": [
  {
   "cell_type": "code",
   "execution_count": 1,
   "outputs": [],
   "source": [
    "import numpy as np"
   ],
   "metadata": {
    "collapsed": false
   }
  },
  {
   "cell_type": "code",
   "execution_count": 2,
   "outputs": [],
   "source": [
    "def data_gen(t=0):\n",
    "    cnt = 9\n",
    "    while cnt < 10e3:\n",
    "        cnt += 1\n",
    "        t += 0.1\n",
    "        yield t, np.sin(2*np.pi*t)*np.exp(-t/10)"
   ],
   "metadata": {
    "collapsed": false
   }
  },
  {
   "cell_type": "code",
   "execution_count": 3,
   "outputs": [
    {
     "name": "stdout",
     "output_type": "stream",
     "text": [
      "<generator object data_gen at 0x000001B04548E3C0>\n",
      "<generator object data_gen at 0x000001B04548E3C0>\n",
      "<generator object data_gen at 0x000001B04548E3C0>\n",
      "<generator object data_gen at 0x000001B04548E3C0>\n",
      "<generator object data_gen at 0x000001B04548E3C0>\n",
      "<generator object data_gen at 0x000001B04548E3C0>\n",
      "<generator object data_gen at 0x000001B04548E3C0>\n",
      "<generator object data_gen at 0x000001B04548E3C0>\n",
      "<generator object data_gen at 0x000001B04548E3C0>\n",
      "<generator object data_gen at 0x000001B04548E3C0>\n"
     ]
    }
   ],
   "source": [
    "for i in range(10):\n",
    "    print(data_gen())"
   ],
   "metadata": {
    "collapsed": false
   }
  },
  {
   "cell_type": "code",
   "execution_count": null,
   "outputs": [],
   "source": [],
   "metadata": {
    "collapsed": false
   }
  }
 ],
 "metadata": {
  "kernelspec": {
   "display_name": "Python 3 (ipykernel)",
   "language": "python",
   "name": "python3"
  },
  "language_info": {
   "codemirror_mode": {
    "name": "ipython",
    "version": 3
   },
   "file_extension": ".py",
   "mimetype": "text/x-python",
   "name": "python",
   "nbconvert_exporter": "python",
   "pygments_lexer": "ipython3",
   "version": "3.9.13"
  }
 },
 "nbformat": 4,
 "nbformat_minor": 5
}
